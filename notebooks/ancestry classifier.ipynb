{
 "cells": [
  {
   "cell_type": "code",
   "execution_count": null,
   "metadata": {},
   "outputs": [],
   "source": [
    "import pandas as pd\n",
    "import numpy as np\n",
    "import re\n",
    "import matplotlib.pyplot as plt\n",
    "from sklearn.decomposition import PCA\n",
    "from sklearn.ensemble import RandomForestClassifier\n",
    "from sklearn.model_selection import train_test_split\n",
    "from sklearn.preprocessing import LabelEncoder, StandardScaler"
   ]
  },
  {
   "cell_type": "code",
   "execution_count": null,
   "metadata": {},
   "outputs": [],
   "source": []
  },
  {
   "cell_type": "code",
   "execution_count": null,
   "metadata": {},
   "outputs": [],
   "source": [
    "SAMPLE_INDEX = 9"
   ]
  },
  {
   "cell_type": "code",
   "execution_count": null,
   "metadata": {},
   "outputs": [],
   "source": [
    "def get_headerless_vcf_df(f_obj, stop_on='#CHROM'):\n",
    "    line = ''\n",
    "    header = ''\n",
    "    while True:\n",
    "        line = f_obj.readline()\n",
    "        header += line\n",
    "        if line[:6] == stop_on:\n",
    "            break\n",
    "            \n",
    "#     print(line)\n",
    "            \n",
    "    df = pd.read_csv(f_obj, sep='\\t', header=None)\n",
    "    df.columns = line[1:].replace('\"\"', '').replace('\\n', '').split('\\t')\n",
    "\n",
    "    return df, header"
   ]
  },
  {
   "cell_type": "code",
   "execution_count": null,
   "metadata": {},
   "outputs": [],
   "source": [
    "def get_calls_matrix(vcf_fp):\n",
    "    f_obj = open(vcf_fp)\n",
    "    \n",
    "    line = ''\n",
    "    while True:\n",
    "        line = f_obj.readline()\n",
    "        if line[:6] == '#CHROM':\n",
    "            break\n",
    "    \n",
    "    line = line.replace('\\n', '')\n",
    "    samples = line.split('\\t')[SAMPLE_INDEX:]\n",
    "    \n",
    "    X = []\n",
    "    for line in f_obj:\n",
    "        line = line.replace('\\n', '')\n",
    "        pieces = line.split('\\t')\n",
    "        X.append(pieces[SAMPLE_INDEX:])\n",
    "    \n",
    "    return np.asarray(X), samples"
   ]
  },
  {
   "cell_type": "markdown",
   "metadata": {},
   "source": [
    "### assumptions\n",
    "\n",
    "sample vcf is same length as genomes vcf"
   ]
  },
  {
   "cell_type": "code",
   "execution_count": null,
   "metadata": {},
   "outputs": [],
   "source": [
    "# CALLED_VCF_FP = '/diskmnt/Projects/Users/estorrs/data/ancestry/MM/temp/called_samples.vcf'\n",
    "# GENOMES_VCF_FP = '/diskmnt/Projects/Users/estorrs/1000-genomes/GRCh37/all.coding.sorted.02maf.10000sampled.sorted.snps.vcf'"
   ]
  },
  {
   "cell_type": "code",
   "execution_count": null,
   "metadata": {},
   "outputs": [],
   "source": [
    "CALLED_VCF_FP = '/diskmnt/Projects/Users/estorrs/data/ancestry/MM/temp/mm.called_samples.vcf'\n",
    "GENOMES_VCF_FP = '/diskmnt/Projects/Users/estorrs/1000-genomes/GRCh37/all.coding.sorted.02maf.10000sampled.sorted.snps.vcf'"
   ]
  },
  {
   "cell_type": "code",
   "execution_count": null,
   "metadata": {},
   "outputs": [],
   "source": [
    "# def preprocess_vcf(vcf_fp):\n",
    "#     \"\"\"Pull out X, convert to \n",
    "#     Returns:\n",
    "#         (X, scaler)\n",
    "#     \"\"\"\n",
    "#     calls_matrix, samples = get_calls_matrix(vcf_fp)\n",
    "    \n",
    "#     for i, row in enumerate(calls_matrix):\n",
    "#         row = [re.sub(re.compile(r'^0\\|[1-9]+|^[1-9]+\\|0'), r'0|1', v) for v in row]\n",
    "#         calls_matrix[i] = [re.sub(re.compile(r'^[1-9]+\\|[1-9]+'), r'1|1', v) for v in row]\n",
    "        \n",
    "#     # encode calls\n",
    "#     label_encoder = LabelEncoder()\n",
    "#     label_encoder.fit(['.|.', '0|0', '0|1', '1|1', '0', '1'])\n",
    "    \n",
    "#     for i, row in enumerate(calls_matrix):\n",
    "#         calls_matrix[i] = label_encoder.transform(row)\n",
    "    \n",
    "# #     print(ca)\n",
    "    \n",
    "#     calls_matrix = np.transpose(calls_matrix)\n",
    "    \n",
    "#     return calls_matrix, samples\n",
    "\n",
    "def get_preprocessed_X(df):    \n",
    "#     if drop_indices is None:\n",
    "        \n",
    "    \n",
    "    # remove x\n",
    "    df = df[df['CHROM'] != 'X']\n",
    "    df = df[df['CHROM'] != 'chrX']\n",
    "    \n",
    "    trimmed_df = df[df.columns[9:]]\n",
    "    samples = trimmed_df.columns\n",
    "    \n",
    "    trimmed_df = trimmed_df.replace(re.compile(r'^0\\|[1-9]+|^[1-9]+\\|0'), '0|1')\n",
    "    trimmed_df = trimmed_df.replace(re.compile(r'^[1-9]+\\|[1-9]+'), '1|1')\n",
    "    \n",
    "#     return trimmed_df\n",
    "    # for X chrom\n",
    "#     trimmed_df = trimmed_df.replace(re.compile(r'^[1-9]+$'), '1')\n",
    "    \n",
    "    # encode genotype\n",
    "    label_encoder = LabelEncoder()\n",
    "#     label_encoder.fit(['.|.', '0|0', '0|1', '1|1', '0', '1'])\n",
    "    label_encoder.fit(['.|.', '0|0', '0|1', '1|1'])\n",
    "\n",
    "    # encode the rows\n",
    "    for i, row in trimmed_df.iterrows():\n",
    "        trimmed_df.loc[i][:] = label_encoder.transform(row.values)\n",
    "        \n",
    "    X = trimmed_df.values\n",
    "\n",
    "    # transpose so each row is now a sample\n",
    "    X = X.transpose()\n",
    "    \n",
    "    return X, label_encoder, samples, trimmed_df\n",
    "    "
   ]
  },
  {
   "cell_type": "code",
   "execution_count": null,
   "metadata": {},
   "outputs": [],
   "source": [
    "df_genomes, _ = get_headerless_vcf_df(open(GENOMES_VCF_FP))\n",
    "df_called, _ = get_headerless_vcf_df(open(CALLED_VCF_FP))"
   ]
  },
  {
   "cell_type": "code",
   "execution_count": null,
   "metadata": {},
   "outputs": [],
   "source": [
    "# drop rows with all missing\n",
    "to_drop = []\n",
    "for i, row in df_called.iterrows():\n",
    "    if len([x for x in list(row[9:]) if x != '.|.']) == 0:\n",
    "        to_drop.append(i)\n",
    "\n",
    "df_genomes = df_genomes.drop(to_drop) \n",
    "df_called = df_called.drop(to_drop)"
   ]
  },
  {
   "cell_type": "code",
   "execution_count": null,
   "metadata": {},
   "outputs": [],
   "source": [
    "X_genomes, encoder_genomes, samples_genomes, trimmed_df_genomes = get_preprocessed_X(df_genomes)"
   ]
  },
  {
   "cell_type": "code",
   "execution_count": null,
   "metadata": {},
   "outputs": [],
   "source": [
    "X_called, encoder_called, samples_called, trimmed_df_called = get_preprocessed_X(df_called)"
   ]
  },
  {
   "cell_type": "code",
   "execution_count": null,
   "metadata": {},
   "outputs": [],
   "source": [
    "X_genomes.shape, X_called.shape"
   ]
  },
  {
   "cell_type": "code",
   "execution_count": null,
   "metadata": {},
   "outputs": [],
   "source": [
    "np.all(df_genomes['POS'] == df_called['POS'])"
   ]
  },
  {
   "cell_type": "code",
   "execution_count": null,
   "metadata": {},
   "outputs": [],
   "source": [
    "trimmed_df_genomes.head(10)"
   ]
  },
  {
   "cell_type": "code",
   "execution_count": null,
   "metadata": {},
   "outputs": [],
   "source": [
    "trimmed_df_called.head(10)"
   ]
  },
  {
   "cell_type": "code",
   "execution_count": null,
   "metadata": {},
   "outputs": [],
   "source": [
    "# pca_scaler = StandardScaler()\n",
    "# pca_scaler.fit(X_genomes)\n",
    "# X_genomes = pca_scaler.transform(X_genomes)"
   ]
  },
  {
   "cell_type": "code",
   "execution_count": null,
   "metadata": {},
   "outputs": [],
   "source": [
    "# X_called = pca_scaler.transform(X_called)"
   ]
  },
  {
   "cell_type": "code",
   "execution_count": null,
   "metadata": {},
   "outputs": [],
   "source": [
    "print(X_genomes.shape, X_called.shape)\n",
    "X = np.vstack((X_genomes, X_called))\n",
    "print(X.shape)"
   ]
  },
  {
   "cell_type": "markdown",
   "metadata": {},
   "source": [
    "## PCA"
   ]
  },
  {
   "cell_type": "code",
   "execution_count": null,
   "metadata": {},
   "outputs": [],
   "source": [
    "pca_scaler = StandardScaler()\n",
    "pca_scaler.fit(X)\n",
    "X = pca_scaler.transform(X)"
   ]
  },
  {
   "cell_type": "code",
   "execution_count": null,
   "metadata": {},
   "outputs": [],
   "source": [
    "pca = PCA(n_components=20)\n",
    "pca.fit(X)\n",
    "pcs = pca.transform(X)"
   ]
  },
  {
   "cell_type": "code",
   "execution_count": null,
   "metadata": {},
   "outputs": [],
   "source": [
    "pcs_df = pd.DataFrame(pcs)\n",
    "pd.scatter_matrix(pcs_df.loc[:, :3], figsize=(12,12))"
   ]
  },
  {
   "cell_type": "code",
   "execution_count": null,
   "metadata": {},
   "outputs": [],
   "source": [
    "# pca = PCA(n_components=20)\n",
    "# pca.fit(X_genomes)\n",
    "# pcs_genomes = pca.transform(X_genomes)"
   ]
  },
  {
   "cell_type": "code",
   "execution_count": null,
   "metadata": {},
   "outputs": [],
   "source": [
    "# pcs_genomes_df = pd.DataFrame(pcs_genomes)\n",
    "# pd.scatter_matrix(pcs_genomes_df.loc[:, :3], figsize=(12,12))"
   ]
  },
  {
   "cell_type": "code",
   "execution_count": null,
   "metadata": {},
   "outputs": [],
   "source": [
    "# pca = PCA(n_components=20)\n",
    "# pca.fit(X_called)"
   ]
  },
  {
   "cell_type": "code",
   "execution_count": null,
   "metadata": {},
   "outputs": [],
   "source": [
    "# pcs_called = pca.transform(X_called)"
   ]
  },
  {
   "cell_type": "code",
   "execution_count": null,
   "metadata": {},
   "outputs": [],
   "source": [
    "# pcs_called_df = pd.DataFrame(pcs_called)\n",
    "# pd.scatter_matrix(pcs_called_df.loc[:, :3], figsize=(12,12))"
   ]
  },
  {
   "cell_type": "markdown",
   "metadata": {},
   "source": [
    "## annotate 1000 genomes"
   ]
  },
  {
   "cell_type": "code",
   "execution_count": null,
   "metadata": {},
   "outputs": [],
   "source": [
    "# load in 1000 genome labels\n",
    "labels_df = pd.read_csv('/diskmnt/Projects/Users/estorrs/1000-genomes/GRCh37/integrated_call_samples_v3.20130502.ALL.panel',\n",
    "                       sep='\\t')\n",
    "labels_df.head()"
   ]
  },
  {
   "cell_type": "code",
   "execution_count": null,
   "metadata": {},
   "outputs": [],
   "source": [
    "# make sure order still matches\n",
    "np.all(df_genomes.columns[9:] == labels_df['sample'])"
   ]
  },
  {
   "cell_type": "code",
   "execution_count": null,
   "metadata": {},
   "outputs": [],
   "source": [
    "sample_to_ancestry = {k:v for k, v in zip(labels_df['sample'], labels_df['super_pop'])}\n",
    "\n",
    "ancestry_to_color = {'EUR': 'red', 'EAS': 'blue', 'AMR': 'green', 'AFR': 'yellow', 'SAS': 'pink'}\n",
    "colors = [ancestry_to_color[sample_to_ancestry[s]] for s in labels_df['sample']]"
   ]
  },
  {
   "cell_type": "code",
   "execution_count": null,
   "metadata": {},
   "outputs": [],
   "source": [
    "## extract back out into called and 1000 genomes\n",
    "pcs_genomes_df = pcs_df[:X_genomes.shape[0]][:]\n",
    "pcs_called_df = pcs_df[X_genomes.shape[0]:][:]\n",
    "pcs_genomes_df.shape, pcs_called_df.shape"
   ]
  },
  {
   "cell_type": "code",
   "execution_count": null,
   "metadata": {},
   "outputs": [],
   "source": [
    "def get_axis_limits(pcs_df, d=4):\n",
    "    lims = []\n",
    "    for i in range(d):\n",
    "        c = pcs_df[i]\n",
    "        lims.append((min(c), max(c)))\n",
    "        \n",
    "    return lims\n",
    "        "
   ]
  },
  {
   "cell_type": "code",
   "execution_count": null,
   "metadata": {},
   "outputs": [],
   "source": [
    "pd.scatter_matrix(pcs_genomes_df.loc[:, :3], color=colors, figsize=(12,12))"
   ]
  },
  {
   "cell_type": "code",
   "execution_count": null,
   "metadata": {},
   "outputs": [],
   "source": [
    "lims = get_axis_limits(pcs_genomes_df)\n",
    "lims"
   ]
  },
  {
   "cell_type": "code",
   "execution_count": null,
   "metadata": {},
   "outputs": [],
   "source": [
    "ax = pd.plotting.scatter_matrix(pcs_called_df.loc[:, :3], figsize=(12,12), diagonal='kde')\n",
    "for i, (ax_min, ax_max) in enumerate(lims):\n",
    "    for j in range(len(lims)):\n",
    "        ax[i, j].set_ylim(ax_min, ax_max)\n",
    "        ax[j, i].set_xlim(ax_min, ax_max)"
   ]
  },
  {
   "cell_type": "markdown",
   "metadata": {},
   "source": [
    "## do classifier"
   ]
  },
  {
   "cell_type": "code",
   "execution_count": null,
   "metadata": {},
   "outputs": [],
   "source": [
    "# get target values\n",
    "ancestries = labels_df['super_pop'].values\n",
    "ancestry_encoder = LabelEncoder()\n",
    "ancestry_encoder.fit(list(set(ancestries)))\n",
    "y = ancestry_encoder.transform(ancestries)"
   ]
  },
  {
   "cell_type": "code",
   "execution_count": null,
   "metadata": {},
   "outputs": [],
   "source": [
    "# do normalization\n",
    "X = np.copy(pcs_genomes_df.values)\n",
    "\n",
    "X_train, X_test, y_train, y_test = train_test_split(X, y, test_size=0.3)"
   ]
  },
  {
   "cell_type": "code",
   "execution_count": null,
   "metadata": {},
   "outputs": [],
   "source": [
    "rf_scaler = StandardScaler()\n",
    "rf_scaler.fit(X_train)\n",
    "X_train = rf_scaler.transform(X_train)\n",
    "X_test = rf_scaler.transform(X_test)"
   ]
  },
  {
   "cell_type": "code",
   "execution_count": null,
   "metadata": {},
   "outputs": [],
   "source": [
    "X_train.shape, X_test.shape"
   ]
  },
  {
   "cell_type": "code",
   "execution_count": null,
   "metadata": {},
   "outputs": [],
   "source": [
    "clf = RandomForestClassifier(n_estimators=100)\n",
    "clf.fit(X_train, y_train)"
   ]
  },
  {
   "cell_type": "code",
   "execution_count": null,
   "metadata": {},
   "outputs": [],
   "source": [
    "# train accuracy and test accuracy\n",
    "clf.score(X_train, y_train), clf.score(X_test, y_test)"
   ]
  },
  {
   "cell_type": "markdown",
   "metadata": {},
   "source": [
    "## classify samples"
   ]
  },
  {
   "cell_type": "code",
   "execution_count": null,
   "metadata": {},
   "outputs": [],
   "source": [
    "# do classification of mm samples\n",
    "samples = df_called.columns[9:]"
   ]
  },
  {
   "cell_type": "code",
   "execution_count": null,
   "metadata": {},
   "outputs": [],
   "source": [
    "samples"
   ]
  },
  {
   "cell_type": "code",
   "execution_count": null,
   "metadata": {},
   "outputs": [],
   "source": [
    "X_samples = np.copy(pcs_called_df.values)\n",
    "X_samples = rf_scaler.transform(X_samples)"
   ]
  },
  {
   "cell_type": "code",
   "execution_count": null,
   "metadata": {},
   "outputs": [],
   "source": [
    "predictions = clf.predict(X_samples)\n",
    "predictions = ancestry_encoder.inverse_transform(predictions)"
   ]
  },
  {
   "cell_type": "code",
   "execution_count": null,
   "metadata": {},
   "outputs": [],
   "source": [
    "predictions"
   ]
  },
  {
   "cell_type": "code",
   "execution_count": null,
   "metadata": {},
   "outputs": [],
   "source": [
    "sample_to_predictions = {k:v for k, v in zip(samples, predictions)}\n",
    "colors = [ancestry_to_color[sample_to_predictions[s]] for s in samples]"
   ]
  },
  {
   "cell_type": "code",
   "execution_count": null,
   "metadata": {},
   "outputs": [],
   "source": [
    "ax = pd.plotting.scatter_matrix(pcs_called_df.loc[:, :3], color=colors, figsize=(12,12), diagonal='kde')\n",
    "for i, (ax_min, ax_max) in enumerate(lims):\n",
    "    for j in range(len(lims)):\n",
    "        ax[i, j].set_ylim(ax_min, ax_max)\n",
    "        ax[j, i].set_xlim(ax_min, ax_max)"
   ]
  },
  {
   "cell_type": "code",
   "execution_count": null,
   "metadata": {},
   "outputs": [],
   "source": []
  }
 ],
 "metadata": {
  "kernelspec": {
   "display_name": "Python 3",
   "language": "python",
   "name": "python3"
  },
  "language_info": {
   "codemirror_mode": {
    "name": "ipython",
    "version": 3
   },
   "file_extension": ".py",
   "mimetype": "text/x-python",
   "name": "python",
   "nbconvert_exporter": "python",
   "pygments_lexer": "ipython3",
   "version": "3.6.3"
  }
 },
 "nbformat": 4,
 "nbformat_minor": 2
}
