{
 "cells": [
  {
   "cell_type": "code",
   "execution_count": 1,
   "metadata": {},
   "outputs": [],
   "source": [
    "import pandas as pd\n",
    "import numpy as np\n",
    "import re\n",
    "# import matplotlib.pyplot as plt\n",
    "from sklearn.decomposition import PCA\n",
    "from sklearn.ensemble import RandomForestClassifier\n",
    "from sklearn.model_selection import train_test_split\n",
    "from sklearn.preprocessing import LabelEncoder, StandardScaler"
   ]
  },
  {
   "cell_type": "code",
   "execution_count": null,
   "metadata": {},
   "outputs": [],
   "source": []
  },
  {
   "cell_type": "code",
   "execution_count": 2,
   "metadata": {},
   "outputs": [],
   "source": [
    "SAMPLE_INDEX = 9"
   ]
  },
  {
   "cell_type": "code",
   "execution_count": 3,
   "metadata": {},
   "outputs": [],
   "source": [
    "def get_headerless_vcf_df(f_obj, stop_on='#CHROM'):\n",
    "    line = ''\n",
    "    header = ''\n",
    "    while True:\n",
    "        line = f_obj.readline()\n",
    "        header += line\n",
    "        if line[:6] == stop_on:\n",
    "            break\n",
    "            \n",
    "#     print(line)\n",
    "            \n",
    "    df = pd.read_csv(f_obj, sep='\\t', header=None)\n",
    "    df.columns = line[1:].replace('\"\"', '').replace('\\n', '').split('\\t')\n",
    "\n",
    "    return df, header"
   ]
  },
  {
   "cell_type": "code",
   "execution_count": 4,
   "metadata": {},
   "outputs": [],
   "source": [
    "def get_calls_matrix(vcf_fp):\n",
    "    f_obj = open(vcf_fp)\n",
    "    \n",
    "    line = ''\n",
    "    while True:\n",
    "        line = f_obj.readline()\n",
    "        if line[:6] == '#CHROM':\n",
    "            break\n",
    "    \n",
    "    line = line.replace('\\n', '')\n",
    "    samples = line.split('\\t')[SAMPLE_INDEX:]\n",
    "    \n",
    "    X = []\n",
    "    for line in f_obj:\n",
    "        line = line.replace('\\n', '')\n",
    "        pieces = line.split('\\t')\n",
    "        X.append(pieces[SAMPLE_INDEX:])\n",
    "    \n",
    "    return np.asarray(X), samples"
   ]
  },
  {
   "cell_type": "markdown",
   "metadata": {},
   "source": [
    "### assumptions\n",
    "\n",
    "sample vcf is same length as genomes vcf"
   ]
  },
  {
   "cell_type": "code",
   "execution_count": 5,
   "metadata": {},
   "outputs": [],
   "source": [
    "CALLED_VCF_FP = '/diskmnt/Projects/Users/estorrs/data/ancestry/MM/temp/called_samples.vcf'\n",
    "GENOMES_VCF_FP = '/diskmnt/Projects/Users/estorrs/1000-genomes/GRCh37/all.coding.sorted.02maf.10000sampled.sorted.snps.vcf'"
   ]
  },
  {
   "cell_type": "code",
   "execution_count": 53,
   "metadata": {},
   "outputs": [],
   "source": [
    "def preprocess_vcf(vcf_fp):\n",
    "    \"\"\"Pull out X, convert to \n",
    "    Returns:\n",
    "        (X, scaler)\n",
    "    \"\"\"\n",
    "    calls_matrix, samples = get_calls_matrix(vcf_fp)\n",
    "    \n",
    "    for i, row in enumerate(calls_matrix):\n",
    "        row = [re.sub(re.compile(r'^0\\|[1-9]+|^[1-9]+\\|0'), r'0|1', v) for v in row]\n",
    "        calls_matrix[i] = [re.sub(re.compile(r'^[1-9]+\\|[1-9]+'), r'1|1', v) for v in row]\n",
    "        \n",
    "    # encode calls\n",
    "    label_encoder = LabelEncoder()\n",
    "    label_encoder.fit(['.|.', '0|0', '0|1', '1|1', '0', '1'])\n",
    "    \n",
    "    for i, row in enumerate(calls_matrix):\n",
    "        calls_matrix[i] = label_encoder.transform(row)\n",
    "    \n",
    "#     print(ca)\n",
    "    \n",
    "    calls_matrix = np.transpose(calls_matrix)\n",
    "    \n",
    "    return calls_matrix, samples\n",
    "\n",
    "def get_preprocessed_X(vcf_fp):\n",
    "    df, _ = get_headerless_vcf_df(open(vcf_fp))\n",
    "    \n",
    "    # remove x\n",
    "    df = df[df['CHROM'] != 'X']\n",
    "    df = df[df['CHROM'] != 'chrX']\n",
    "\n",
    "\n",
    "    \n",
    "    trimmed_df = df[df.columns[9:]]\n",
    "    samples = trimmed_df.columns\n",
    "    \n",
    "    trimmed_df = trimmed_df.replace(re.compile(r'^0\\|[1-9]+|^[1-9]+\\|0'), '0|1')\n",
    "    trimmed_df = trimmed_df.replace(re.compile(r'^[1-9]+\\|[1-9]+'), '1|1')\n",
    "    \n",
    "#     return trimmed_df\n",
    "    # for X chrom\n",
    "#     trimmed_df = trimmed_df.replace(re.compile(r'^[1-9]+$'), '1')\n",
    "    \n",
    "    # encode genotype\n",
    "    label_encoder = LabelEncoder()\n",
    "#     label_encoder.fit(['.|.', '0|0', '0|1', '1|1', '0', '1'])\n",
    "    label_encoder.fit(['.|.', '0|0', '0|1', '1|1'])\n",
    "\n",
    "    # encode the rows\n",
    "    for i, row in trimmed_df.iterrows():\n",
    "        trimmed_df.loc[i][:] = label_encoder.transform(row.values)\n",
    "        \n",
    "    X = trimmed_df.values\n",
    "\n",
    "    # transpose so each row is now a sample\n",
    "    X = X.transpose()\n",
    "    \n",
    "    return X, label_encoder, samples, trimmed_df, df\n",
    "    "
   ]
  },
  {
   "cell_type": "code",
   "execution_count": null,
   "metadata": {},
   "outputs": [],
   "source": []
  },
  {
   "cell_type": "code",
   "execution_count": 54,
   "metadata": {},
   "outputs": [],
   "source": [
    "X, encoder, samples, trimmed_df, df = get_preprocessed_X(GENOMES_VCF_FP)"
   ]
  },
  {
   "cell_type": "code",
   "execution_count": 55,
   "metadata": {},
   "outputs": [
    {
     "data": {
      "text/plain": [
       "((2504, 9334), 2504)"
      ]
     },
     "execution_count": 55,
     "metadata": {},
     "output_type": "execute_result"
    }
   ],
   "source": [
    "X.shape, len(samples)"
   ]
  },
  {
   "cell_type": "code",
   "execution_count": 56,
   "metadata": {},
   "outputs": [
    {
     "data": {
      "text/plain": [
       "array([[1, 1, 1, ..., 2, 1, 1],\n",
       "       [2, 3, 1, ..., 2, 1, 1],\n",
       "       [2, 2, 1, ..., 2, 1, 3],\n",
       "       ...,\n",
       "       [1, 2, 1, ..., 3, 1, 1],\n",
       "       [1, 1, 1, ..., 2, 1, 1],\n",
       "       [1, 1, 1, ..., 3, 2, 1]], dtype=object)"
      ]
     },
     "execution_count": 56,
     "metadata": {},
     "output_type": "execute_result"
    }
   ],
   "source": [
    "X"
   ]
  },
  {
   "cell_type": "code",
   "execution_count": 57,
   "metadata": {},
   "outputs": [
    {
     "data": {
      "text/plain": [
       "0       17\n",
       "2        6\n",
       "3        1\n",
       "4       19\n",
       "5       17\n",
       "6       15\n",
       "7       14\n",
       "8       18\n",
       "9       17\n",
       "10       3\n",
       "11      19\n",
       "12       3\n",
       "13      15\n",
       "14       1\n",
       "15      11\n",
       "16       8\n",
       "17       2\n",
       "18       5\n",
       "19      12\n",
       "20      10\n",
       "21      10\n",
       "22      16\n",
       "23      19\n",
       "24       4\n",
       "25       1\n",
       "26      15\n",
       "27       9\n",
       "28      11\n",
       "29       5\n",
       "30      11\n",
       "        ..\n",
       "9500    19\n",
       "9501     5\n",
       "9502     1\n",
       "9503    22\n",
       "9504     1\n",
       "9505     4\n",
       "9506     3\n",
       "9508    12\n",
       "9509     9\n",
       "9510     2\n",
       "9511     9\n",
       "9512    14\n",
       "9513     1\n",
       "9514     4\n",
       "9515    14\n",
       "9516    19\n",
       "9517    14\n",
       "9518    11\n",
       "9519    14\n",
       "9520     1\n",
       "9521    11\n",
       "9522    14\n",
       "9523     4\n",
       "9524     8\n",
       "9525    20\n",
       "9526    10\n",
       "9527    17\n",
       "9528    19\n",
       "9529    22\n",
       "9530     4\n",
       "Name: CHROM, Length: 9334, dtype: object"
      ]
     },
     "execution_count": 57,
     "metadata": {},
     "output_type": "execute_result"
    }
   ],
   "source": [
    "df['CHROM']"
   ]
  },
  {
   "cell_type": "code",
   "execution_count": null,
   "metadata": {},
   "outputs": [],
   "source": []
  }
 ],
 "metadata": {
  "kernelspec": {
   "display_name": "Python 3",
   "language": "python",
   "name": "python3"
  },
  "language_info": {
   "codemirror_mode": {
    "name": "ipython",
    "version": 3
   },
   "file_extension": ".py",
   "mimetype": "text/x-python",
   "name": "python",
   "nbconvert_exporter": "python",
   "pygments_lexer": "ipython3",
   "version": "3.6.3"
  }
 },
 "nbformat": 4,
 "nbformat_minor": 2
}
